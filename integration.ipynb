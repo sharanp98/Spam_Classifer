{
 "cells": [
  {
   "cell_type": "code",
   "execution_count": 10,
   "metadata": {},
   "outputs": [],
   "source": [
    "import os\n",
    "import mailbox\n",
    "import sys\n",
    "import pprint\n",
    "import pandas as pd"
   ]
  },
  {
   "cell_type": "code",
   "execution_count": 71,
   "metadata": {},
   "outputs": [],
   "source": [
    "def extract_message_id(mbox_file):\n",
    "    mbox = mailbox.mbox(mbox_file)\n",
    "    for key in mbox.iterkeys():\n",
    "        try:\n",
    "            message = mbox[key]\n",
    "        except mbox.errors.MessageParseError:\n",
    "            continue  # The message is malformed. Just leave it.\n",
    "        data = str(message['Message-ID'])\n",
    "        ls = ['non-phishing'] + data.lstrip('<').rstrip('>').split('@')\n",
    "        return ls"
   ]
  },
  {
   "cell_type": "code",
   "execution_count": 89,
   "metadata": {},
   "outputs": [],
   "source": [
    "data = []\n",
    "for root, dirs, files in os.walk(\"./spamassasin/\"):\n",
    "    for file in files:\n",
    "        if file.endswith(\".mbox\"):\n",
    "            data.append(extract_message_id(os.path.join(root, file)))\n",
    "data = list(filter(None, data))"
   ]
  },
  {
   "cell_type": "code",
   "execution_count": 90,
   "metadata": {},
   "outputs": [],
   "source": [
    "df = pd.DataFrame(data, columns = ['class_label','LHS','RHS'])"
   ]
  },
  {
   "cell_type": "code",
   "execution_count": 92,
   "metadata": {},
   "outputs": [],
   "source": [
    "df.to_csv(r'./non_phishing.csv', index = False)"
   ]
  },
  {
   "cell_type": "code",
   "execution_count": null,
   "metadata": {},
   "outputs": [],
   "source": []
  }
 ],
 "metadata": {
  "kernelspec": {
   "display_name": "Python 3",
   "language": "python",
   "name": "python3"
  },
  "language_info": {
   "codemirror_mode": {
    "name": "ipython",
    "version": 3
   },
   "file_extension": ".py",
   "mimetype": "text/x-python",
   "name": "python",
   "nbconvert_exporter": "python",
   "pygments_lexer": "ipython3",
   "version": "3.7.3"
  }
 },
 "nbformat": 4,
 "nbformat_minor": 2
}
